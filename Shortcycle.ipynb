{
 "cells": [
  {
   "cell_type": "code",
   "execution_count": 7,
   "id": "c919443f-8ddc-4dff-ae1d-3d05a7f57a45",
   "metadata": {},
   "outputs": [
    {
     "data": {
      "application/vnd.jupyter.widget-view+json": {
       "model_id": "b3c3bddabc9f45b4ac672dbcbd5cd20e",
       "version_major": 2,
       "version_minor": 0
      },
      "text/plain": [
       "HBox(children=(Button(description='Start/Lap/Done', layout=Layout(height='40px', width='25%'), style=ButtonSty…"
      ]
     },
     "metadata": {},
     "output_type": "display_data"
    },
    {
     "data": {
      "application/vnd.jupyter.widget-view+json": {
       "model_id": "f5e3ac49e8344c4fa443d335858f4d48",
       "version_major": 2,
       "version_minor": 0
      },
      "text/plain": [
       "HBox(children=(Button(description='Delete Shot', layout=Layout(height='40px', width='25%'), style=ButtonStyle(…"
      ]
     },
     "metadata": {},
     "output_type": "display_data"
    },
    {
     "data": {
      "application/vnd.jupyter.widget-view+json": {
       "model_id": "ea5fb9f2b7c9499c918dc043f12da73c",
       "version_major": 2,
       "version_minor": 0
      },
      "text/plain": [
       "Text(value='', description='Name:', placeholder='Enter Name')"
      ]
     },
     "metadata": {},
     "output_type": "display_data"
    },
    {
     "data": {
      "application/vnd.jupyter.widget-view+json": {
       "model_id": "8d5b8a706cde4171a7af01791b1d0300",
       "version_major": 2,
       "version_minor": 0
      },
      "text/plain": [
       "Text(value='', description='Competition:', placeholder='Enter Competition')"
      ]
     },
     "metadata": {},
     "output_type": "display_data"
    },
    {
     "data": {
      "application/vnd.jupyter.widget-view+json": {
       "model_id": "d4d4eb4286774569b77fb0afe2bbbb88",
       "version_major": 2,
       "version_minor": 0
      },
      "text/plain": [
       "DatePicker(value=None, description='Date:', step=1)"
      ]
     },
     "metadata": {},
     "output_type": "display_data"
    },
    {
     "data": {
      "application/vnd.jupyter.widget-view+json": {
       "model_id": "72d08f976d4341499fcd4a2d2a6beff7",
       "version_major": 2,
       "version_minor": 0
      },
      "text/plain": [
       "Output()"
      ]
     },
     "metadata": {},
     "output_type": "display_data"
    },
    {
     "data": {
      "application/javascript": [
       "\n",
       "        document.addEventListener('keydown', function(event) {\n",
       "            if (event.code === 'Space') {\n",
       "                Jupyter.notebook.kernel.execute(\"stopwatch_app.start_lap_done_button.click()\");\n",
       "            }\n",
       "        });\n",
       "        "
      ],
      "text/plain": [
       "<IPython.core.display.Javascript object>"
      ]
     },
     "metadata": {},
     "output_type": "display_data"
    }
   ],
   "source": [
    "import ipywidgets as widgets\n",
    "from IPython.display import display, clear_output\n",
    "from IPython.display import Javascript  # Import Javascript module\n",
    "import time\n",
    "import pandas as pd\n",
    "\n",
    "class StopwatchApp:\n",
    "    def __init__(self):\n",
    "        self.name_input = widgets.Text(placeholder=\"Enter Name\", description=\"Name:\")\n",
    "        self.competition_input = widgets.Text(placeholder=\"Enter Competition\", description=\"Competition:\")\n",
    "        self.date_input = widgets.DatePicker(description=\"Date:\")\n",
    "        self.timings = []\n",
    "        self.current_lap_start = None\n",
    "        self.timer_running = False\n",
    "        self.cycle_number = 1\n",
    "        self.current_phase = 0\n",
    "        self.rows_generated = 0  # Track the number of rows generated\n",
    "\n",
    "        self.output_area = widgets.Output()\n",
    "\n",
    "        button_width = '25%'\n",
    "        button_height = '40px'\n",
    "        button_layout = widgets.Layout(width=button_width, height=button_height)\n",
    "\n",
    "        button_style_1 = {\n",
    "            'button_color': '#AEC6CF',\n",
    "            'font_color': 'black',\n",
    "            'border_color': 'black'\n",
    "        }\n",
    "        button_style_2 = {\n",
    "            'button_color': '#FDFD96',\n",
    "            'font_color': 'black',\n",
    "            'border_color': 'black'\n",
    "        }\n",
    "        button_style_3 = {\n",
    "            'button_color': '#77DD77',\n",
    "            'font_color': 'black',\n",
    "            'border_color': 'black'\n",
    "        }\n",
    "        button_style = {\n",
    "            'button_color': '#cfcfc4',\n",
    "            'font_color': 'black',\n",
    "            'border_color': 'black'\n",
    "        }\n",
    "\n",
    "        self.start_lap_done_button = widgets.Button(description=\"Start/Lap/Done\", layout=button_layout, style=button_style_1)\n",
    "        self.delete_shot_button = widgets.Button(description=\"Delete Shot\", layout=button_layout, style=button_style)\n",
    "        self.export_button = widgets.Button(description=\"Export to Excel\", layout=button_layout, style=button_style)\n",
    "        self.append_to_sheet_button = widgets.Button(description=\"Append to Google Sheet\", layout=button_layout, style=button_style)\n",
    "        self.next_player_button = widgets.Button(description=\"Next Player\", layout=button_layout, style=button_style)\n",
    "\n",
    "        self.start_lap_done_button.on_click(self.start_lap_done_handler)\n",
    "        self.delete_shot_button.on_click(self.delete_shot_handler)\n",
    "        self.export_button.on_click(self.export_to_excel)\n",
    "        self.append_to_sheet_button.on_click(self.append_to_google_sheet)\n",
    "        self.next_player_button.on_click(self.next_player_handler)\n",
    "\n",
    "        display(\n",
    "            widgets.HBox([self.start_lap_done_button]),\n",
    "            widgets.HBox([self.delete_shot_button, self.export_button, self.append_to_sheet_button, self.next_player_button]),\n",
    "            self.name_input, self.competition_input, self.date_input, self.output_area\n",
    "        )\n",
    "\n",
    "        self.assign_space_bar_listener()\n",
    "\n",
    "    def start_lap_done_handler(self, b):\n",
    "        if not self.timer_running:\n",
    "            self.current_lap_start = time.time()\n",
    "            self.timer_running = True\n",
    "            self.cycle_number = max([entry['Cycle'] for entry in self.timings], default=0) + 1\n",
    "            self.current_phase = 0\n",
    "            self.update_output(f\"Started Cycle {self.cycle_number} - Preshot\")\n",
    "        else:\n",
    "            self.lap_handler(b)\n",
    "\n",
    "    def lap_handler(self, b):\n",
    "        if self.timer_running and self.current_lap_start is not None:\n",
    "            phase_names = [\"Preshot\", \"Shotprep\", \"Execution\", \"Follow\"]\n",
    "            lap_name = f\"{phase_names[self.current_phase]} Lap\"\n",
    "\n",
    "            lap_end = time.time()\n",
    "            lap_duration = lap_end - self.current_lap_start\n",
    "            self.current_lap_start = lap_end\n",
    "\n",
    "            date_str = self.date_input.value.strftime('%Y%m%d') if self.date_input.value else 'NoDate'\n",
    "\n",
    "            self.timings.append({\n",
    "                'Cycle': self.cycle_number,\n",
    "                'Lap': f\"{lap_name} {self.cycle_number}\",\n",
    "                'Duration': lap_duration,\n",
    "                'Name': self.name_input.value,\n",
    "                'Competition': self.competition_input.value,\n",
    "                'Date': date_str\n",
    "            })\n",
    "            self.update_output(f\"{lap_name} {self.cycle_number}: {lap_duration:.2f} seconds\")\n",
    "\n",
    "            self.current_phase = (self.current_phase + 1) % len(phase_names)\n",
    "\n",
    "            if self.current_phase == 0:\n",
    "                self.cycle_number += 1\n",
    "\n",
    "            self.rows_generated += 1  # Increment the row count\n",
    "\n",
    "            if self.rows_generated % 4 == 0:  # Check if 4 rows are generated\n",
    "                self.done_handler(b)\n",
    "\n",
    "    def done_handler(self, b):\n",
    "        self.timer_running = False\n",
    "        self.update_output(\"Timer Stopped (Done)\")\n",
    "        self.display_recorded_values()\n",
    "        self.rows_generated = 0  # Reset the row count\n",
    "\n",
    "    def delete_shot_handler(self, b):\n",
    "        if self.timings:\n",
    "            max_cycle_number = max(entry['Cycle'] for entry in self.timings)\n",
    "            self.timings = [entry for entry in self.timings if entry['Cycle'] != max_cycle_number]\n",
    "\n",
    "            self.update_output(f\"Deleted all shots with the latest cycle number ({max_cycle_number})\")\n",
    "            self.cycle_number = max_cycle_number + 1\n",
    "            self.current_phase = 0  # Reset the phase to \"Preshot\"\n",
    "            self.rows_generated = 0  # Reset the row count\n",
    "            self.current_lap_start = time.time()  # Reset the timer\n",
    "            self.update_output(f\"Started Cycle {self.cycle_number} - Preshot\")\n",
    "\n",
    "    def export_to_excel(self, b):\n",
    "        if self.timings:\n",
    "            df = pd.DataFrame(self.timings)\n",
    "            \n",
    "            # Format the 'Date' column to 'DD/MM/YYYY'\n",
    "            if 'Date' in df.columns:\n",
    "                df['Date'] = pd.to_datetime(df['Date'], format='%Y%m%d').dt.strftime('%d/%m/%Y')\n",
    "    \n",
    "            name = self.name_input.value\n",
    "            competition = self.competition_input.value\n",
    "            date = self.date_input.value\n",
    "    \n",
    "            if date is not None:\n",
    "                date_str = date.strftime('%Y%m%d')\n",
    "            else:\n",
    "                date_str = 'NoDate'\n",
    "    \n",
    "            file_name = f\"{name}_{competition}_{date_str}.xlsx\"\n",
    "    \n",
    "            try:\n",
    "                df.to_excel(file_name, index=False)\n",
    "                self.update_output(f\"Exported to Excel: {file_name}\")\n",
    "                print(f\"Exported to Excel: {file_name}\")\n",
    "            except Exception as e:\n",
    "                self.update_output(f\"Failed to export to Excel: {e}\")\n",
    "                print(f\"Failed to export to Excel: {e}\")\n",
    "\n",
    "    def append_to_google_sheet(self, b):\n",
    "        if self.timings:\n",
    "            creds, _ = default()\n",
    "            gc = gspread.authorize(creds)\n",
    "\n",
    "            sheet_url = \"https://docs.google.com/spreadsheets/d/1a4aORY_8T5veKe2FqViPi4QQzp787d6rtS6QEeQzDaU/edit#gid=0\"\n",
    "\n",
    "            sh = gc.open_by_url(sheet_url)\n",
    "            worksheet = sh.get_worksheet(0)\n",
    "\n",
    "            existing_data = pd.DataFrame(worksheet.get_all_records())\n",
    "\n",
    "            data = pd.DataFrame(self.timings)\n",
    "            combined_data = pd.concat([existing_data, data], ignore_index=True)\n",
    "\n",
    "            worksheet.update([combined_data.columns.values.tolist()] + combined_data.values.tolist())\n",
    "\n",
    "            self.update_output(\"Appended to Google Sheet\")\n",
    "\n",
    "    def next_player_handler(self, b):\n",
    "        self.timings = []\n",
    "        self.current_lap_start = None\n",
    "        self.timer_running = False\n",
    "        self.cycle_number = 1\n",
    "        self.current_phase = 0\n",
    "        self.rows_generated = 0  # Reset the row count\n",
    "        self.update_output(\"Code reset for the next player\")\n",
    "\n",
    "    def display_recorded_values(self):\n",
    "        if self.timings:\n",
    "            df = pd.DataFrame(self.timings)\n",
    "            with self.output_area:\n",
    "                clear_output(wait=True)\n",
    "                display(df)\n",
    "\n",
    "    def update_output(self, message):\n",
    "        with self.output_area:\n",
    "            clear_output(wait=True)\n",
    "            print(message)\n",
    "\n",
    "    def assign_space_bar_listener(self):\n",
    "        javascript_code = \"\"\"\n",
    "        document.addEventListener('keydown', function(event) {\n",
    "            if (event.code === 'Space') {\n",
    "                Jupyter.notebook.kernel.execute(\"stopwatch_app.start_lap_done_button.click()\");\n",
    "            }\n",
    "        });\n",
    "        \"\"\"\n",
    "\n",
    "        display(Javascript(javascript_code))\n",
    "\n",
    "# Create an instance of the StopwatchApp class\n",
    "stopwatch_app = StopwatchApp()\n"
   ]
  },
  {
   "cell_type": "code",
   "execution_count": null,
   "id": "5d09a0a0-2c1b-4619-bc43-c7e9cf3afe52",
   "metadata": {},
   "outputs": [],
   "source": []
  }
 ],
 "metadata": {
  "kernelspec": {
   "display_name": "Python 3 (ipykernel)",
   "language": "python",
   "name": "python3"
  },
  "language_info": {
   "codemirror_mode": {
    "name": "ipython",
    "version": 3
   },
   "file_extension": ".py",
   "mimetype": "text/x-python",
   "name": "python",
   "nbconvert_exporter": "python",
   "pygments_lexer": "ipython3",
   "version": "3.12.3"
  }
 },
 "nbformat": 4,
 "nbformat_minor": 5
}
